{
 "cells": [
  {
   "cell_type": "markdown",
   "id": "2f86b705-6501-4be5-85c5-a6083001bd0f",
   "metadata": {},
   "source": [
    "## Dataset"
   ]
  },
  {
   "cell_type": "code",
   "execution_count": 1,
   "id": "76ba99de-140b-4873-9b51-eb16d95b9d0a",
   "metadata": {},
   "outputs": [],
   "source": [
    "%load_ext autoreload\n",
    "%autoreload 2\n",
    "import warnings \n",
    "warnings.filterwarnings(\"ignore\")\n"
   ]
  },
  {
   "cell_type": "code",
   "execution_count": 229,
   "id": "4eccf0ff-ee7c-43d7-b91d-78eba4a31363",
   "metadata": {},
   "outputs": [],
   "source": [
    "import os\n",
    "os.chdir(r'C:\\Users\\NILS\\Documents\\ATIAM\\PAM\\deep-eurorack-control\\src')\n",
    "from deep_eurorack_control.pipelines.ddsp.dataset_process import preprocess_dataset\n"
   ]
  },
  {
   "cell_type": "code",
   "execution_count": 239,
   "id": "e55e8619-7a58-4c7f-aa0f-cdf0ee7e9085",
   "metadata": {},
   "outputs": [],
   "source": [
    "raw_data_dir = r'C:\\Users\\NILS\\Documents\\ATIAM\\PAM\\Datasets\\nsynth-test\\audio'\n",
    "dataset_dir = r'C:\\Users\\NILS\\Documents\\ATIAM\\PAM\\Datasets\\strings'\n",
    "filters = ['string_acoustic']\n",
    "sr = 16000\n",
    "frame_size = 256\n",
    "nb_files = None"
   ]
  },
  {
   "cell_type": "code",
   "execution_count": 240,
   "id": "a0f9c9a6-ce0c-4465-ad36-d26079f26ce1",
   "metadata": {
    "tags": []
   },
   "outputs": [
    {
     "name": "stdout",
     "output_type": "stream",
     "text": [
      "heeloooooo 306\n"
     ]
    },
    {
     "name": "stderr",
     "output_type": "stream",
     "text": [
      "100%|████████████████████████████████████████████████████████████████████████████████| 306/306 [02:25<00:00,  2.11it/s]\n"
     ]
    }
   ],
   "source": [
    "preprocess_dataset(raw_data_dir,dataset_dir,filters,sr,frame_size,nb_files)\n"
   ]
  },
  {
   "cell_type": "code",
   "execution_count": 242,
   "id": "29354bd3-41e2-4b34-a72b-e7ff56017701",
   "metadata": {},
   "outputs": [],
   "source": [
    "from deep_eurorack_control.datasets.ddsp import  NSynth_ddsp\n",
    "dataset = NSynth_ddsp(dataset_dir)"
   ]
  },
  {
   "cell_type": "code",
   "execution_count": 243,
   "id": "a5554b86-9ed7-4d24-957c-c60e24597129",
   "metadata": {
    "tags": []
   },
   "outputs": [],
   "source": [
    "from torch.utils.data import DataLoader\n",
    "data_loader = DataLoader(dataset, batch_size=4, shuffle=False)\n",
    "mini_batch = next(iter(data_loader))"
   ]
  },
  {
   "cell_type": "code",
   "execution_count": 244,
   "id": "4b1b13f7-6653-46dd-b4cf-b626d58f5b2e",
   "metadata": {},
   "outputs": [],
   "source": [
    "from deep_eurorack_control.models.ddsp.decoder import Decoder\n",
    "decoder = Decoder(101,65,n_hidden=512)\n",
    "\n"
   ]
  },
  {
   "cell_type": "code",
   "execution_count": 247,
   "id": "0a8dd9d8-9a34-4f8e-ba49-60d4782bbda0",
   "metadata": {},
   "outputs": [
    {
     "data": {
      "text/plain": [
       "torch.Size([4, 250, 101])"
      ]
     },
     "execution_count": 247,
     "metadata": {},
     "output_type": "execute_result"
    }
   ],
   "source": [
    "pitch = mini_batch[0]\n",
    "loud = mini_batch[1]\n",
    "\n",
    "harmonics,filters = decoder(pitch,loud)\n"
   ]
  },
  {
   "cell_type": "code",
   "execution_count": 274,
   "id": "273f1709-c384-4e53-bb75-11bd3b2a2dd7",
   "metadata": {},
   "outputs": [],
   "source": [
    "amps = harmonics[:,:,1:]\n",
    "level = harmonics[:,:,:1]\n",
    "amps = level * amps/torch.sum(amps,axis=-1,keepdim=True)\n",
    "amps = upsample(amps,len_signal)\n",
    "f0  =  upsample(pitch,len_signal)\n"
   ]
  },
  {
   "cell_type": "code",
   "execution_count": 287,
   "id": "c9d06668-e309-4c52-b75f-925b5820e6af",
   "metadata": {
    "tags": []
   },
   "outputs": [],
   "source": [
    "import numpy as np\n",
    "freqs = f0 * torch.arange(1,amps.shape[-1]+1)[None,None,:]\n",
    "phases = 2*np.pi*freqs/sr * torch.arange(0,amps.shape[1])[None,:,None]\n",
    "wave = amps*torch.sin(phases)\n",
    "signal = torch.sum(wave,axis=-1)"
   ]
  },
  {
   "cell_type": "code",
   "execution_count": 286,
   "id": "31ff511d-6734-4e5c-bcab-ba7641e43cc3",
   "metadata": {},
   "outputs": [],
   "source": [
    "amps=torch.ones_like(amps)\n",
    "# harmonics"
   ]
  },
  {
   "cell_type": "code",
   "execution_count": 290,
   "id": "825111e8-dd53-4e8e-b3db-7d6e13932c12",
   "metadata": {},
   "outputs": [
    {
     "data": {
      "text/plain": [
       "[<matplotlib.lines.Line2D at 0x2a935c6ab80>]"
      ]
     },
     "execution_count": 290,
     "metadata": {},
     "output_type": "execute_result"
    },
    {
     "data": {
      "image/png": "[encoded data removed]",
      "text/plain": [
       "<Figure size 432x288 with 1 Axes>"
      ]
     },
     "metadata": {
      "needs_background": "light"
     },
     "output_type": "display_data"
    }
   ],
   "source": [
    "plt.plot(signal[0,:500])"
   ]
  },
  {
   "cell_type": "code",
   "execution_count": 293,
   "id": "8fcb6674-7ce6-4c01-ae2a-9d2487a7c8a6",
   "metadata": {
    "tags": []
   },
   "outputs": [
    {
     "data": {
      "text/plain": [
       "500.0"
      ]
     },
     "execution_count": 293,
     "metadata": {},
     "output_type": "execute_result"
    }
   ],
   "source": [
    "1/32*sr"
   ]
  },
  {
   "cell_type": "markdown",
   "id": "7986b49e-6dd6-4718-a174-c71724925d87",
   "metadata": {},
   "source": [
    "# Ops"
   ]
  },
  {
   "cell_type": "markdown",
   "id": "98df1304-2403-4752-a5b3-05a74d85dbc5",
   "metadata": {
    "tags": []
   },
   "source": [
    "## Synths\n"
   ]
  },
  {
   "cell_type": "code",
   "execution_count": 31,
   "id": "0ac507c4-9a83-4e55-9845-316e0e884d96",
   "metadata": {},
   "outputs": [],
   "source": [
    "from deep_eurorack_control.models.ddsp.ops import  h_synth,noise_synth\n",
    "import torch\n",
    "nb_frames = 250\n",
    "frame_size = 256\n",
    "nbands=65\n",
    "\n",
    "net_output = torch.ones(10,int(sr*4),20)\n",
    "f0 = 300*torch.ones(10,int(sr*4),1)\n",
    "\n",
    "\n",
    "H = torch.cat([torch.zeros(int(nbands/2)+1),torch.ones(int(nbands/2))])\n",
    "H = H.repeat(10,1)\n",
    "H=torch.unsqueeze(H,1)\n",
    "H = H.repeat(1,nb_frames,1)"
   ]
  },
  {
   "cell_type": "code",
   "execution_count": 241,
   "id": "f177e60a-8ffd-4f8a-ac07-884437b92289",
   "metadata": {},
   "outputs": [],
   "source": [
    "amps = net_output[:,:,1:]\n",
    "level = net_output[:,:,:1]\n",
    "amps = level * amps/torch.sum(amps,axis=-1,keepdim=True)"
   ]
  },
  {
   "cell_type": "code",
   "execution_count": 33,
   "id": "490f86b8-513e-4068-88ab-38f8b27e87b3",
   "metadata": {},
   "outputs": [],
   "source": [
    "signal = h_synth(f0,amps,sr)\n",
    "noise_out = noise_synth(H,frame_size)"
   ]
  },
  {
   "cell_type": "markdown",
   "id": "bb68c903-b889-458d-94b0-fe5307d26aa1",
   "metadata": {},
   "source": [
    "## Loss"
   ]
  },
  {
   "cell_type": "code",
   "execution_count": 79,
   "id": "3596a3f3-e0f9-4c0c-acd0-7051a6b5f49b",
   "metadata": {},
   "outputs": [],
   "source": [
    "from deep_eurorack_control.models.ddsp.ops import  spectral_loss"
   ]
  },
  {
   "cell_type": "code",
   "execution_count": 102,
   "id": "3e27f262-f979-4144-8e9f-383e245d6e5b",
   "metadata": {},
   "outputs": [],
   "source": [
    "signals_in = signal\n",
    "signals_out = signal + torch.arange(0,10)[:,None]\n",
    "alpha= 1\n",
    "\n",
    "scales = [2048,1024,512,256,128,64]\n",
    "L1 = spectral_loss(scales,signals_in,signals_out,alpha=1)"
   ]
  },
  {
   "cell_type": "markdown",
   "id": "bb65000b-85f4-4c00-8742-4b12315fe1c9",
   "metadata": {},
   "source": [
    "## Upsample"
   ]
  },
  {
   "cell_type": "code",
   "execution_count": 122,
   "id": "1ef31808-c1a5-4613-b769-3df8ff8c8941",
   "metadata": {},
   "outputs": [
    {
     "data": {
      "text/plain": [
       "torch.Size([4, 64000, 1])"
      ]
     },
     "execution_count": 122,
     "metadata": {},
     "output_type": "execute_result"
    }
   ],
   "source": [
    "upsample(pitch,64000).shape"
   ]
  },
  {
   "cell_type": "code",
   "execution_count": 212,
   "id": "e5351043-379f-4d91-88c6-a22f5fbac4ee",
   "metadata": {},
   "outputs": [],
   "source": [
    "from deep_eurorack_control.models.ddsp.model import  DDSP"
   ]
  },
  {
   "cell_type": "markdown",
   "id": "d05865d2-ff80-4b77-aae4-e8e02a688281",
   "metadata": {},
   "source": [
    "# Network"
   ]
  },
  {
   "cell_type": "code",
   "execution_count": 130,
   "id": "2d155b59-c98b-4a55-bf5f-79a16db967cd",
   "metadata": {},
   "outputs": [],
   "source": [
    "\n",
    "import torch.nn as nn "
   ]
  },
  {
   "cell_type": "code",
   "execution_count": 188,
   "id": "27bf6e71-e620-4ccf-9424-dc64e843abeb",
   "metadata": {},
   "outputs": [],
   "source": [
    "len_signal = 64000\n",
    "frame_size = 256"
   ]
  },
  {
   "cell_type": "code",
   "execution_count": 201,
   "id": "deb461f6-7140-46d2-a1b1-1765a10cff34",
   "metadata": {},
   "outputs": [
    {
     "data": {
      "text/plain": [
       "[<matplotlib.lines.Line2D at 0x2a9367fb040>]"
      ]
     },
     "execution_count": 201,
     "metadata": {},
     "output_type": "execute_result"
    },
    {
     "data": {
      "image/png": "[encoded data removed]",
      "text/plain": [
       "<Figure size 432x288 with 1 Axes>"
      ]
     },
     "metadata": {
      "needs_background": "light"
     },
     "output_type": "display_data"
    }
   ],
   "source": [
    "decoder = Decoder(101,65)\n",
    "\n",
    "harmonics,filters = decoder(pitch.float(),loud.float())\n",
    "signal = generate_signal(harmonics,filters,frame_size,len_signal)\n",
    "plt.plot(signal.detach()[0][:1000])"
   ]
  },
  {
   "cell_type": "code",
   "execution_count": 199,
   "id": "062fd323-2b70-4982-98af-d777ea360200",
   "metadata": {
    "collapsed": true,
    "jupyter": {
     "outputs_hidden": true
    },
    "tags": []
   },
   "outputs": [
    {
     "data": {
      "text/plain": [
       "<bound method Module.parameters of Decoder(\n",
       "  (mlp_pitch): Sequential(\n",
       "    (0): Sequential(\n",
       "      (0): Linear(in_features=1, out_features=512, bias=True)\n",
       "      (1): LayerNorm((512,), eps=1e-05, elementwise_affine=True)\n",
       "      (2): ReLU(inplace=True)\n",
       "    )\n",
       "    (1): Sequential(\n",
       "      (0): Linear(in_features=512, out_features=512, bias=True)\n",
       "      (1): LayerNorm((512,), eps=1e-05, elementwise_affine=True)\n",
       "      (2): ReLU(inplace=True)\n",
       "    )\n",
       "    (2): Sequential(\n",
       "      (0): Linear(in_features=512, out_features=512, bias=True)\n",
       "      (1): LayerNorm((512,), eps=1e-05, elementwise_affine=True)\n",
       "      (2): ReLU(inplace=True)\n",
       "    )\n",
       "  )\n",
       "  (mlp_loud): Sequential(\n",
       "    (0): Sequential(\n",
       "      (0): Linear(in_features=1, out_features=512, bias=True)\n",
       "      (1): LayerNorm((512,), eps=1e-05, elementwise_affine=True)\n",
       "      (2): ReLU(inplace=True)\n",
       "    )\n",
       "    (1): Sequential(\n",
       "      (0): Linear(in_features=512, out_features=512, bias=True)\n",
       "      (1): LayerNorm((512,), eps=1e-05, elementwise_affine=True)\n",
       "      (2): ReLU(inplace=True)\n",
       "    )\n",
       "    (2): Sequential(\n",
       "      (0): Linear(in_features=512, out_features=512, bias=True)\n",
       "      (1): LayerNorm((512,), eps=1e-05, elementwise_affine=True)\n",
       "      (2): ReLU(inplace=True)\n",
       "    )\n",
       "  )\n",
       "  (gru): GRU(1024, 512)\n",
       "  (mlp_out): Sequential(\n",
       "    (0): Sequential(\n",
       "      (0): Linear(in_features=514, out_features=512, bias=True)\n",
       "      (1): LayerNorm((512,), eps=1e-05, elementwise_affine=True)\n",
       "      (2): ReLU(inplace=True)\n",
       "    )\n",
       "    (1): Sequential(\n",
       "      (0): Linear(in_features=512, out_features=512, bias=True)\n",
       "      (1): LayerNorm((512,), eps=1e-05, elementwise_affine=True)\n",
       "      (2): ReLU(inplace=True)\n",
       "    )\n",
       "    (2): Sequential(\n",
       "      (0): Linear(in_features=512, out_features=512, bias=True)\n",
       "      (1): LayerNorm((512,), eps=1e-05, elementwise_affine=True)\n",
       "      (2): ReLU(inplace=True)\n",
       "    )\n",
       "  )\n",
       "  (dense_amps): Linear(in_features=512, out_features=101, bias=True)\n",
       "  (dense_filters): Linear(in_features=512, out_features=65, bias=True)\n",
       ")>"
      ]
     },
     "execution_count": 199,
     "metadata": {},
     "output_type": "execute_result"
    }
   ],
   "source": [
    "decoder.parameters"
   ]
  },
  {
   "cell_type": "code",
   "execution_count": 196,
   "id": "6a62af39-f1c4-49bb-900b-d859fa968dfa",
   "metadata": {},
   "outputs": [
    {
     "data": {
      "text/plain": [
       "[<matplotlib.lines.Line2D at 0x2a939603b80>]"
      ]
     },
     "execution_count": 196,
     "metadata": {},
     "output_type": "execute_result"
    },
    {
     "data": {
      "image/png": "[encoded data removed]",
      "text/plain": [
       "<Figure size 432x288 with 1 Axes>"
      ]
     },
     "metadata": {
      "needs_background": "light"
     },
     "output_type": "display_data"
    }
   ],
   "source": []
  },
  {
   "cell_type": "markdown",
   "id": "28a94deb-cd40-4acd-a71a-b47c77dd3c4e",
   "metadata": {},
   "source": [
    "# Utils"
   ]
  },
  {
   "cell_type": "code",
   "execution_count": 79,
   "id": "04d6aa03-f70a-426d-b366-8cd10db2f9f8",
   "metadata": {},
   "outputs": [],
   "source": [
    "sd.play(signal,sr)"
   ]
  },
  {
   "cell_type": "code",
   "execution_count": 107,
   "id": "e64de44a-7470-44c3-ba7f-d09fa59ac3c4",
   "metadata": {},
   "outputs": [],
   "source": [
    "def plot_spectrogram_mag(STFT_amp, fig=None, ax=None):\n",
    "    \"\"\"\n",
    "    TODO: TO COMPLETE\n",
    "\n",
    "    Parameters\n",
    "    ----------\n",
    "    STFT_amp\n",
    "    fig\n",
    "    ax\n",
    "\n",
    "    Returns\n",
    "    -------\n",
    "\n",
    "    \"\"\"\n",
    "\n",
    "    def add_colorbar(fig, ax, im):\n",
    "        divider = make_axes_locatable(ax)\n",
    "        cax = divider.append_axes(\"right\", size=\"5%\", pad=0.05)\n",
    "        fig.colorbar(im, cax=cax, orientation=\"vertical\")\n",
    "\n",
    "    if fig is None:\n",
    "        fig, ax = plt.subplots(1, 1, figsize=(12, 6))\n",
    "\n",
    "    times = np.linspace(0, 2 * 128 / 121, STFT_amp.shape[1])\n",
    "    freqs = librosa.mel_frequencies(\n",
    "        n_mels=STFT_amp.shape[0], fmin=0.0, fmax=16000 / 2, htk=True\n",
    "    )\n",
    "\n",
    "    X, Y = np.meshgrid(times, freqs)\n",
    "\n",
    "    im0 = ax.pcolor(X, Y, STFT_amp, cmap=\"magma\")\n",
    "\n",
    "    add_colorbar(fig, ax, im0)\n",
    "    labelRow = \"Temps\"\n",
    "    labelCol = \"Fréquences\"\n",
    "    ax.set_xlabel(labelRow)\n",
    "    ax.set_ylabel(labelCol)\n",
    "\n",
    "    # plt.show()\n"
   ]
  },
  {
   "cell_type": "code",
   "execution_count": 221,
   "id": "f906c2c8-0552-414e-9a55-81fb3333b09e",
   "metadata": {},
   "outputs": [],
   "source": [
    "def save_pickle(data_dict, filepath):\n",
    "    \"\"\"\n",
    "    Save data to pickle file\n",
    "\n",
    "    Parameters\n",
    "    ----------\n",
    "    data_dict : dict\n",
    "        data to save\n",
    "    filepath : str\n",
    "        absolute path to the file\n",
    "\n",
    "    Returns\n",
    "    -------\n",
    "        None\n",
    "    \"\"\"\n",
    "    with open(filepath, \"wb\") as handle:\n",
    "        pickle.dump(data_dict, handle, protocol=pickle.HIGHEST_PROTOCOL)\n",
    "\n",
    "\n",
    "def load_pickle(filepath):\n",
    "    \"\"\"\n",
    "    Load data from pickle file\n",
    "\n",
    "    Parameters\n",
    "    ----------\n",
    "    filepath : str\n",
    "        absolute path to the file\n",
    "\n",
    "    Returns\n",
    "    -------\n",
    "        data stored in the pickle file\n",
    "    \"\"\"\n",
    "    with open(filepath, \"rb\") as handle:\n",
    "        data = pickle.load(handle)\n",
    "    return data"
   ]
  },
  {
   "cell_type": "code",
   "execution_count": null,
   "id": "eb0bad82-9b5d-4405-8c7d-fdc15f6cbb3c",
   "metadata": {},
   "outputs": [],
   "source": []
  }
 ],
 "metadata": {
  "kernelspec": {
   "display_name": "Python 3 (ipykernel)",
   "language": "python",
   "name": "python3"
  },
  "language_info": {
   "codemirror_mode": {
    "name": "ipython",
    "version": 3
   },
   "file_extension": ".py",
   "mimetype": "text/x-python",
   "name": "python",
   "nbconvert_exporter": "python",
   "pygments_lexer": "ipython3",
   "version": "3.8.12"
  }
 },
 "nbformat": 4,
 "nbformat_minor": 5
}
