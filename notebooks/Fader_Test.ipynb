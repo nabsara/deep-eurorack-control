{
 "cells": [
  {
   "cell_type": "code",
   "execution_count": 1,
   "metadata": {},
   "outputs": [],
   "source": [
    "import sys"
   ]
  },
  {
   "cell_type": "code",
   "execution_count": 2,
   "metadata": {},
   "outputs": [],
   "source": [
    "sys.path.append(\"../src\")\n",
    "\n",
    "from deep_eurorack_control.datasets.data_loaders_fader import nsynth_data_loader_fader"
   ]
  },
  {
   "cell_type": "code",
   "execution_count": 11,
   "metadata": {},
   "outputs": [],
   "source": [
    "train_loader, valid_loader = nsynth_data_loader_fader(\n",
    "    batch_size=8,\n",
    "    data_dir=r\"C:\\Users\\HP R2G\\Documents\\ATIAM\\PAM\\deep-eurorack-control\\data\",\n",
    "    audio_dir=r\"C:\\Users\\HP R2G\\Documents\\ATIAM\\PAM\\nsynth-test\\audio\",\n",
    "    #nsynth_json=\"nsynth_string_test.json\"\n",
    ")\n",
    "\n",
    "audio, pitch, random_param = next(iter(valid_loader))"
   ]
  },
  {
   "cell_type": "code",
   "execution_count": null,
   "metadata": {},
   "outputs": [],
   "source": []
  }
 ],
 "metadata": {
  "interpreter": {
   "hash": "b32826f8195c476464c2e9769c7c03f3f851c84c53230e21ae71d2fdde584c1e"
  },
  "kernelspec": {
   "display_name": "Python 3.9.9 ('env_pam')",
   "language": "python",
   "name": "python3"
  },
  "language_info": {
   "codemirror_mode": {
    "name": "ipython",
    "version": 3
   },
   "file_extension": ".py",
   "mimetype": "text/x-python",
   "name": "python",
   "nbconvert_exporter": "python",
   "pygments_lexer": "ipython3",
   "version": "3.9.9"
  },
  "orig_nbformat": 4
 },
 "nbformat": 4,
 "nbformat_minor": 2
}
