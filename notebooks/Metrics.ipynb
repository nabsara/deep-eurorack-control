{
 "cells": [
  {
   "cell_type": "code",
   "execution_count": 89,
   "id": "8d49a5b6-49ca-4034-81ca-4d25ca2f9031",
   "metadata": {},
   "outputs": [
    {
     "name": "stdout",
     "output_type": "stream",
     "text": [
      "The autoreload extension is already loaded. To reload it, use:\n",
      "  %reload_ext autoreload\n"
     ]
    }
   ],
   "source": [
    "%load_ext autoreload\n",
    "%autoreload 2\n",
    "# import warnings \n",
    "# warnings.filterwarnings(\"ignore\")\n",
    "\n",
    "import os\n",
    "os.chdir(r'C:\\Users\\NILS\\Documents\\ATIAM\\PAM\\deep-eurorack-control\\src')\n",
    "import numpy as np\n",
    "from tqdm import tqdm\n",
    "import librosa\n",
    "import pandas as pd\n",
    "import matplotlib.pyplot as plt\n",
    "import seaborn as sn"
   ]
  },
  {
   "cell_type": "code",
   "execution_count": 52,
   "id": "389cf184-517d-4314-bd2e-01eadcdb0c53",
   "metadata": {},
   "outputs": [],
   "source": [
    "raw_data_dir = r'C:\\Users\\NILS\\Documents\\ATIAM\\PAM\\Datasets\\nsynth-train\\audio'\n",
    "dataset_dir = r'C:\\Users\\NILS\\Documents\\ATIAM\\PAM\\Datasets\\strings_full'\n",
    "filter = 'string_acoustic'\n",
    "sr = 16000\n",
    "frame_size = 256\n",
    "nb_files = 300"
   ]
  },
  {
   "cell_type": "code",
   "execution_count": 53,
   "id": "f2eae22a-7967-4846-b7d8-e11a3d3cd90f",
   "metadata": {},
   "outputs": [],
   "source": [
    "metrics_names = [\"Loudness\",\"Centroid\",\"Bandwidth\",\"Flatness\",\"Rolloff\"]"
   ]
  },
  {
   "cell_type": "code",
   "execution_count": 88,
   "id": "80149c32-92ed-43e4-b251-74c2790b9645",
   "metadata": {},
   "outputs": [
    {
     "name": "stderr",
     "output_type": "stream",
     "text": [
      "100%|████████████████████████████████████████████████████████████████████████████| 10577/10577 [04:19<00:00, 40.74it/s]\n"
     ]
    }
   ],
   "source": [
    "metrics_arr = preprocess_dataset_metrics(raw_data_dir,dataset_dir,filter,metrics_names,sr,frame_size,nb_files=None)"
   ]
  },
  {
   "cell_type": "code",
   "execution_count": 90,
   "id": "a47dc29e-9ea5-45ba-862c-50b4b0ec6119",
   "metadata": {
    "tags": []
   },
   "outputs": [],
   "source": [
    "for entry in metrics_arr:\n",
    "    for name in metrics_names:\n",
    "        entry[name] = np.mean(entry[name])"
   ]
  },
  {
   "cell_type": "code",
   "execution_count": 91,
   "id": "b70a7eeb-f62e-4101-bfd4-0dce443f1137",
   "metadata": {
    "collapsed": true,
    "jupyter": {
     "outputs_hidden": true
    },
    "tags": []
   },
   "outputs": [
    {
     "data": {
      "text/html": [
       "<div>\n",
       "<style scoped>\n",
       "    .dataframe tbody tr th:only-of-type {\n",
       "        vertical-align: middle;\n",
       "    }\n",
       "\n",
       "    .dataframe tbody tr th {\n",
       "        vertical-align: top;\n",
       "    }\n",
       "\n",
       "    .dataframe thead th {\n",
       "        text-align: right;\n",
       "    }\n",
       "</style>\n",
       "<table border=\"1\" class=\"dataframe\">\n",
       "  <thead>\n",
       "    <tr style=\"text-align: right;\">\n",
       "      <th></th>\n",
       "      <th>Loudness</th>\n",
       "      <th>Centroid</th>\n",
       "      <th>Bandwidth</th>\n",
       "      <th>Flatness</th>\n",
       "      <th>Rolloff</th>\n",
       "    </tr>\n",
       "  </thead>\n",
       "  <tbody>\n",
       "    <tr>\n",
       "      <th>0</th>\n",
       "      <td>0.038928</td>\n",
       "      <td>685.538032</td>\n",
       "      <td>1295.017046</td>\n",
       "      <td>0.156945</td>\n",
       "      <td>1157.751465</td>\n",
       "    </tr>\n",
       "    <tr>\n",
       "      <th>1</th>\n",
       "      <td>0.038928</td>\n",
       "      <td>685.527595</td>\n",
       "      <td>1294.991521</td>\n",
       "      <td>0.156945</td>\n",
       "      <td>1157.751465</td>\n",
       "    </tr>\n",
       "    <tr>\n",
       "      <th>2</th>\n",
       "      <td>0.038928</td>\n",
       "      <td>685.527990</td>\n",
       "      <td>1294.993505</td>\n",
       "      <td>0.156945</td>\n",
       "      <td>1157.751465</td>\n",
       "    </tr>\n",
       "    <tr>\n",
       "      <th>3</th>\n",
       "      <td>0.038506</td>\n",
       "      <td>651.895429</td>\n",
       "      <td>1288.694203</td>\n",
       "      <td>0.132760</td>\n",
       "      <td>1016.589355</td>\n",
       "    </tr>\n",
       "    <tr>\n",
       "      <th>4</th>\n",
       "      <td>0.036658</td>\n",
       "      <td>655.455142</td>\n",
       "      <td>1286.327333</td>\n",
       "      <td>0.145236</td>\n",
       "      <td>1007.702637</td>\n",
       "    </tr>\n",
       "    <tr>\n",
       "      <th>...</th>\n",
       "      <td>...</td>\n",
       "      <td>...</td>\n",
       "      <td>...</td>\n",
       "      <td>...</td>\n",
       "      <td>...</td>\n",
       "    </tr>\n",
       "    <tr>\n",
       "      <th>10572</th>\n",
       "      <td>0.115314</td>\n",
       "      <td>3518.373443</td>\n",
       "      <td>2206.209428</td>\n",
       "      <td>0.001278</td>\n",
       "      <td>5434.399414</td>\n",
       "    </tr>\n",
       "    <tr>\n",
       "      <th>10573</th>\n",
       "      <td>0.115314</td>\n",
       "      <td>3518.384619</td>\n",
       "      <td>2206.226527</td>\n",
       "      <td>0.001278</td>\n",
       "      <td>5434.399414</td>\n",
       "    </tr>\n",
       "    <tr>\n",
       "      <th>10574</th>\n",
       "      <td>0.098497</td>\n",
       "      <td>3962.407539</td>\n",
       "      <td>2234.403759</td>\n",
       "      <td>0.002057</td>\n",
       "      <td>6241.125488</td>\n",
       "    </tr>\n",
       "    <tr>\n",
       "      <th>10575</th>\n",
       "      <td>0.086672</td>\n",
       "      <td>4167.780259</td>\n",
       "      <td>2225.718402</td>\n",
       "      <td>0.002224</td>\n",
       "      <td>6306.408691</td>\n",
       "    </tr>\n",
       "    <tr>\n",
       "      <th>10576</th>\n",
       "      <td>0.115364</td>\n",
       "      <td>3646.376002</td>\n",
       "      <td>2278.553099</td>\n",
       "      <td>0.001212</td>\n",
       "      <td>5593.762207</td>\n",
       "    </tr>\n",
       "  </tbody>\n",
       "</table>\n",
       "<p>10577 rows × 5 columns</p>\n",
       "</div>"
      ],
      "text/plain": [
       "       Loudness     Centroid    Bandwidth  Flatness      Rolloff\n",
       "0      0.038928   685.538032  1295.017046  0.156945  1157.751465\n",
       "1      0.038928   685.527595  1294.991521  0.156945  1157.751465\n",
       "2      0.038928   685.527990  1294.993505  0.156945  1157.751465\n",
       "3      0.038506   651.895429  1288.694203  0.132760  1016.589355\n",
       "4      0.036658   655.455142  1286.327333  0.145236  1007.702637\n",
       "...         ...          ...          ...       ...          ...\n",
       "10572  0.115314  3518.373443  2206.209428  0.001278  5434.399414\n",
       "10573  0.115314  3518.384619  2206.226527  0.001278  5434.399414\n",
       "10574  0.098497  3962.407539  2234.403759  0.002057  6241.125488\n",
       "10575  0.086672  4167.780259  2225.718402  0.002224  6306.408691\n",
       "10576  0.115364  3646.376002  2278.553099  0.001212  5593.762207\n",
       "\n",
       "[10577 rows x 5 columns]"
      ]
     },
     "execution_count": 91,
     "metadata": {},
     "output_type": "execute_result"
    }
   ],
   "source": [
    "dataframe = pd.DataFrame(metrics_arr)\n",
    "dataframe"
   ]
  },
  {
   "cell_type": "code",
   "execution_count": 94,
   "id": "fb990d80-fff4-4f3e-b592-f3237674cc9e",
   "metadata": {},
   "outputs": [
    {
     "data": {
      "image/png": "[encoded data removed]",
      "text/plain": [
       "<Figure size 1440x360 with 5 Axes>"
      ]
     },
     "metadata": {
      "needs_background": "light"
     },
     "output_type": "display_data"
    },
    {
     "data": {
      "image/png": "[encoded data removed]",
      "text/plain": [
       "<Figure size 432x288 with 2 Axes>"
      ]
     },
     "metadata": {
      "needs_background": "light"
     },
     "output_type": "display_data"
    }
   ],
   "source": [
    "fig,axs = plt.subplots(1,len(metrics_names),figsize=(20,5))\n",
    "for name,ax in zip(metrics_names,axs):\n",
    "    dataframe[name].hist(ax=ax, bins=10)\n",
    "    ax.set_title(name)\n",
    "plt.show()\n",
    "    \n",
    "fig2 = plt.figure()\n",
    "corrMatrix =dataframe.corr(method= \"kendall\")\n",
    "sn.heatmap(corrMatrix, annot=True)\n",
    "plt.show()"
   ]
  },
  {
   "cell_type": "code",
   "execution_count": 48,
   "id": "27314aa3-81ae-4396-97a9-7bb9b6567cd0",
   "metadata": {},
   "outputs": [],
   "source": [
    "def compute_metrics(curSignal,metrics_names):\n",
    "    dataStruct = dict.fromkeys(metrics_names)\n",
    "    dataStruct[\"Loudness\"] = librosa.feature.rms(curSignal)\n",
    "    # Compute the spectral centroid. [y, sr, S, n_fft, ...]\n",
    "    dataStruct[\"Centroid\"] = librosa.feature.spectral_centroid(curSignal)\n",
    "    # Compute the spectral bandwidth. [y, sr, S, n_fft, ...]\n",
    "    dataStruct[\"Bandwidth\"] = librosa.feature.spectral_bandwidth(curSignal)\n",
    "    # Compute spectral contrast [R16] , sr, S, n_fft, ...])\t\n",
    "    # dataStruct[\"Contrast\"] = librosa.feature.spectral_contrast(curSignal)\n",
    "    # Compute the spectral flatness. [y, sr, S, n_fft, ...]\n",
    "    dataStruct[\"Flatness\"] = librosa.feature.spectral_flatness(curSignal)\n",
    "    # Compute roll-off frequency\n",
    "    dataStruct[\"Rolloff\"] = librosa.feature.spectral_rolloff(curSignal)\n",
    "    return (dataStruct)"
   ]
  },
  {
   "cell_type": "code",
   "execution_count": 44,
   "id": "9512a6b1-f7ca-4e38-bca5-ed89cf1fe0b5",
   "metadata": {},
   "outputs": [],
   "source": [
    "def preprocess_dataset_metrics(raw_data_dir,dataset_dir,filter,metrics_names,sr,frame_size,nb_files):\n",
    "    files= os.listdir(raw_data_dir) \n",
    "    os.makedirs(dataset_dir,exist_ok=True)\n",
    "    audio_files = []\n",
    "    for file in files:\n",
    "            if filter in file:\n",
    "                audio_files.append(os.path.join(raw_data_dir,file))\n",
    "                # break\n",
    "    \n",
    "        \n",
    "    if nb_files is not None:\n",
    "        audio_files=audio_files[:nb_files]\n",
    "    \n",
    "    \n",
    "    metrics_arr = []\n",
    "    for i,file in enumerate(tqdm(audio_files)): \n",
    "        signal,_ = librosa.load(file,sr)\n",
    "        metrics_arr.append(compute_metrics(signal,metrics_names))\n",
    "    return metrics_arr\n",
    "#     nb_samples = len(audio_files)\n",
    "#     nb_trames = int(len(librosa.load(audio_files[0],sr)[0])/frame_size)\n",
    "#     loudness_arr = np.zeros((nb_samples,nb_trames,1))\n",
    "#     pitch_arr = np.zeros((nb_samples,nb_trames,1))\n",
    "#     audio_arr = np.zeros((nb_samples,nb_trames,frame_size))\n",
    "    \n",
    "    \n",
    "#     for i,file in enumerate(tqdm(audio_files)):\n",
    "#             signal,_ = librosa.load(file,sr)\n",
    "#             pitch_arr[i] = get_pitch(signal,sr,frame_size).reshape(-1,1)\n",
    "#             loudness_arr[i] = get_loudness(signal,sr,frame_size,n_fft=1024).reshape(-1,1)\n",
    "#             audio_arr[i] = signal.reshape(-1,frame_size)\n",
    "            \n",
    "        \n",
    "        \n",
    "#     l_mean,l_std = np.mean(loudness_arr),np.std(loudness_arr)\n",
    "#     loudness_arr = (loudness_arr-l_mean)/l_std\n",
    "            \n",
    "#     save_pickle(pitch_arr,os.path.join(dataset_dir,'pitch.pkl'))\n",
    "#     save_pickle(loudness_arr,os.path.join(dataset_dir,'loudness.pkl'))\n",
    "#     save_pickle(audio_arr,os.path.join(dataset_dir,'audio.pkl'))"
   ]
  },
  {
   "cell_type": "code",
   "execution_count": null,
   "id": "ba21b324-b1a7-4e82-853e-3b322c18b9e1",
   "metadata": {},
   "outputs": [],
   "source": []
  }
 ],
 "metadata": {
  "kernelspec": {
   "display_name": "Python 3 (ipykernel)",
   "language": "python",
   "name": "python3"
  },
  "language_info": {
   "codemirror_mode": {
    "name": "ipython",
    "version": 3
   },
   "file_extension": ".py",
   "mimetype": "text/x-python",
   "name": "python",
   "nbconvert_exporter": "python",
   "pygments_lexer": "ipython3",
   "version": "3.8.12"
  }
 },
 "nbformat": 4,
 "nbformat_minor": 5
}
