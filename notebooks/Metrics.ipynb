{
 "cells": [
  {
   "cell_type": "code",
   "execution_count": 18,
   "metadata": {},
   "outputs": [
    {
     "name": "stdout",
     "output_type": "stream",
     "text": [
      "The autoreload extension is already loaded. To reload it, use:\n",
      "  %reload_ext autoreload\n"
     ]
    }
   ],
   "source": [
    "%load_ext autoreload\n",
    "%autoreload 2\n",
    "# import warnings \n",
    "# warnings.filterwarnings(\"ignore\")\n",
    "\n",
    "import os\n",
    "os.chdir(r'C:\\Users\\leoca\\Documents\\ATIAM\\PAM\\GIT\\deep-eurorack-control\\src')\n",
    "import numpy as np\n",
    "from tqdm import tqdm\n",
    "import librosa\n",
    "import pandas as pd\n",
    "import matplotlib.pyplot as plt\n",
    "import seaborn as sn\n",
    "import signal_envelope as se\n",
    "import scipy.signal as ss"
   ]
  },
  {
   "cell_type": "code",
   "execution_count": 4,
   "metadata": {},
   "outputs": [],
   "source": [
    "raw_data_dir = r'D:\\NSYNTH\\nsynth-train\\audio'\n",
    "dataset_dir = r'D:\\NSYNTH\\stringfull'\n",
    "filter = 'string_acoustic'\n",
    "sr = 16000\n",
    "frame_size = 256\n",
    "nb_files = 300"
   ]
  },
  {
   "cell_type": "code",
   "execution_count": 13,
   "metadata": {},
   "outputs": [],
   "source": [
    "metrics_names = [\"Loudness\",\"Centroid\",\"Bandwidth\",\"Flatness\",\"Rolloff\"]"
   ]
  },
  {
   "cell_type": "code",
   "execution_count": 16,
   "metadata": {},
   "outputs": [
    {
     "name": "stderr",
     "output_type": "stream",
     "text": [
      "100%|████████████████████████████████████████████████████████████████████████████| 19390/19390 [11:46<00:00, 27.43it/s]\n"
     ]
    }
   ],
   "source": [
    "metrics_arr = preprocess_dataset_metrics(raw_data_dir,dataset_dir,filter,metrics_names,sr,frame_size,nb_files=None)"
   ]
  },
  {
   "cell_type": "code",
   "execution_count": 7,
   "metadata": {
    "tags": []
   },
   "outputs": [
    {
     "ename": "NameError",
     "evalue": "name 'metrics_arr' is not defined",
     "output_type": "error",
     "traceback": [
      "\u001b[1;31m---------------------------------------------------------------------------\u001b[0m",
      "\u001b[1;31mNameError\u001b[0m                                 Traceback (most recent call last)",
      "\u001b[1;32m<ipython-input-7-ea5d53dcb5e4>\u001b[0m in \u001b[0;36m<module>\u001b[1;34m\u001b[0m\n\u001b[1;32m----> 1\u001b[1;33m \u001b[1;32mfor\u001b[0m \u001b[0mentry\u001b[0m \u001b[1;32min\u001b[0m \u001b[0mmetrics_arr\u001b[0m\u001b[1;33m:\u001b[0m\u001b[1;33m\u001b[0m\u001b[1;33m\u001b[0m\u001b[0m\n\u001b[0m\u001b[0;32m      2\u001b[0m     \u001b[1;32mfor\u001b[0m \u001b[0mname\u001b[0m \u001b[1;32min\u001b[0m \u001b[0mmetrics_names\u001b[0m\u001b[1;33m:\u001b[0m\u001b[1;33m\u001b[0m\u001b[1;33m\u001b[0m\u001b[0m\n\u001b[0;32m      3\u001b[0m         \u001b[0mentry\u001b[0m\u001b[1;33m[\u001b[0m\u001b[0mname\u001b[0m\u001b[1;33m]\u001b[0m \u001b[1;33m=\u001b[0m \u001b[0mnp\u001b[0m\u001b[1;33m.\u001b[0m\u001b[0mmean\u001b[0m\u001b[1;33m(\u001b[0m\u001b[0mentry\u001b[0m\u001b[1;33m[\u001b[0m\u001b[0mname\u001b[0m\u001b[1;33m]\u001b[0m\u001b[1;33m)\u001b[0m\u001b[1;33m\u001b[0m\u001b[1;33m\u001b[0m\u001b[0m\n",
      "\u001b[1;31mNameError\u001b[0m: name 'metrics_arr' is not defined"
     ]
    }
   ],
   "source": [
    "for entry in metrics_arr:\n",
    "    for name in metrics_names:\n",
    "        entry[name] = np.mean(entry[name])"
   ]
  },
  {
   "cell_type": "code",
   "execution_count": 91,
   "metadata": {
    "jupyter": {
     "outputs_hidden": true
    },
    "tags": []
   },
   "outputs": [
    {
     "data": {
      "text/html": [
       "<div>\n",
       "<style scoped>\n",
       "    .dataframe tbody tr th:only-of-type {\n",
       "        vertical-align: middle;\n",
       "    }\n",
       "\n",
       "    .dataframe tbody tr th {\n",
       "        vertical-align: top;\n",
       "    }\n",
       "\n",
       "    .dataframe thead th {\n",
       "        text-align: right;\n",
       "    }\n",
       "</style>\n",
       "<table border=\"1\" class=\"dataframe\">\n",
       "  <thead>\n",
       "    <tr style=\"text-align: right;\">\n",
       "      <th></th>\n",
       "      <th>Loudness</th>\n",
       "      <th>Centroid</th>\n",
       "      <th>Bandwidth</th>\n",
       "      <th>Flatness</th>\n",
       "      <th>Rolloff</th>\n",
       "    </tr>\n",
       "  </thead>\n",
       "  <tbody>\n",
       "    <tr>\n",
       "      <th>0</th>\n",
       "      <td>0.038928</td>\n",
       "      <td>685.538032</td>\n",
       "      <td>1295.017046</td>\n",
       "      <td>0.156945</td>\n",
       "      <td>1157.751465</td>\n",
       "    </tr>\n",
       "    <tr>\n",
       "      <th>1</th>\n",
       "      <td>0.038928</td>\n",
       "      <td>685.527595</td>\n",
       "      <td>1294.991521</td>\n",
       "      <td>0.156945</td>\n",
       "      <td>1157.751465</td>\n",
       "    </tr>\n",
       "    <tr>\n",
       "      <th>2</th>\n",
       "      <td>0.038928</td>\n",
       "      <td>685.527990</td>\n",
       "      <td>1294.993505</td>\n",
       "      <td>0.156945</td>\n",
       "      <td>1157.751465</td>\n",
       "    </tr>\n",
       "    <tr>\n",
       "      <th>3</th>\n",
       "      <td>0.038506</td>\n",
       "      <td>651.895429</td>\n",
       "      <td>1288.694203</td>\n",
       "      <td>0.132760</td>\n",
       "      <td>1016.589355</td>\n",
       "    </tr>\n",
       "    <tr>\n",
       "      <th>4</th>\n",
       "      <td>0.036658</td>\n",
       "      <td>655.455142</td>\n",
       "      <td>1286.327333</td>\n",
       "      <td>0.145236</td>\n",
       "      <td>1007.702637</td>\n",
       "    </tr>\n",
       "    <tr>\n",
       "      <th>...</th>\n",
       "      <td>...</td>\n",
       "      <td>...</td>\n",
       "      <td>...</td>\n",
       "      <td>...</td>\n",
       "      <td>...</td>\n",
       "    </tr>\n",
       "    <tr>\n",
       "      <th>10572</th>\n",
       "      <td>0.115314</td>\n",
       "      <td>3518.373443</td>\n",
       "      <td>2206.209428</td>\n",
       "      <td>0.001278</td>\n",
       "      <td>5434.399414</td>\n",
       "    </tr>\n",
       "    <tr>\n",
       "      <th>10573</th>\n",
       "      <td>0.115314</td>\n",
       "      <td>3518.384619</td>\n",
       "      <td>2206.226527</td>\n",
       "      <td>0.001278</td>\n",
       "      <td>5434.399414</td>\n",
       "    </tr>\n",
       "    <tr>\n",
       "      <th>10574</th>\n",
       "      <td>0.098497</td>\n",
       "      <td>3962.407539</td>\n",
       "      <td>2234.403759</td>\n",
       "      <td>0.002057</td>\n",
       "      <td>6241.125488</td>\n",
       "    </tr>\n",
       "    <tr>\n",
       "      <th>10575</th>\n",
       "      <td>0.086672</td>\n",
       "      <td>4167.780259</td>\n",
       "      <td>2225.718402</td>\n",
       "      <td>0.002224</td>\n",
       "      <td>6306.408691</td>\n",
       "    </tr>\n",
       "    <tr>\n",
       "      <th>10576</th>\n",
       "      <td>0.115364</td>\n",
       "      <td>3646.376002</td>\n",
       "      <td>2278.553099</td>\n",
       "      <td>0.001212</td>\n",
       "      <td>5593.762207</td>\n",
       "    </tr>\n",
       "  </tbody>\n",
       "</table>\n",
       "<p>10577 rows × 5 columns</p>\n",
       "</div>"
      ],
      "text/plain": [
       "       Loudness     Centroid    Bandwidth  Flatness      Rolloff\n",
       "0      0.038928   685.538032  1295.017046  0.156945  1157.751465\n",
       "1      0.038928   685.527595  1294.991521  0.156945  1157.751465\n",
       "2      0.038928   685.527990  1294.993505  0.156945  1157.751465\n",
       "3      0.038506   651.895429  1288.694203  0.132760  1016.589355\n",
       "4      0.036658   655.455142  1286.327333  0.145236  1007.702637\n",
       "...         ...          ...          ...       ...          ...\n",
       "10572  0.115314  3518.373443  2206.209428  0.001278  5434.399414\n",
       "10573  0.115314  3518.384619  2206.226527  0.001278  5434.399414\n",
       "10574  0.098497  3962.407539  2234.403759  0.002057  6241.125488\n",
       "10575  0.086672  4167.780259  2225.718402  0.002224  6306.408691\n",
       "10576  0.115364  3646.376002  2278.553099  0.001212  5593.762207\n",
       "\n",
       "[10577 rows x 5 columns]"
      ]
     },
     "execution_count": 91,
     "metadata": {},
     "output_type": "execute_result"
    }
   ],
   "source": [
    "dataframe = pd.DataFrame(metrics_arr)\n",
    "dataframe"
   ]
  },
  {
   "cell_type": "code",
   "execution_count": 22,
   "metadata": {},
   "outputs": [
    {
     "ename": "NameError",
     "evalue": "name 'dataframe' is not defined",
     "output_type": "error",
     "traceback": [
      "\u001b[1;31m---------------------------------------------------------------------------\u001b[0m",
      "\u001b[1;31mNameError\u001b[0m                                 Traceback (most recent call last)",
      "\u001b[1;32m<ipython-input-22-c2a7782c2c12>\u001b[0m in \u001b[0;36m<module>\u001b[1;34m\u001b[0m\n\u001b[0;32m      1\u001b[0m \u001b[0mfig\u001b[0m\u001b[1;33m,\u001b[0m\u001b[0maxs\u001b[0m \u001b[1;33m=\u001b[0m \u001b[0mplt\u001b[0m\u001b[1;33m.\u001b[0m\u001b[0msubplots\u001b[0m\u001b[1;33m(\u001b[0m\u001b[1;36m1\u001b[0m\u001b[1;33m,\u001b[0m\u001b[0mlen\u001b[0m\u001b[1;33m(\u001b[0m\u001b[0mmetrics_names\u001b[0m\u001b[1;33m)\u001b[0m\u001b[1;33m,\u001b[0m\u001b[0mfigsize\u001b[0m\u001b[1;33m=\u001b[0m\u001b[1;33m(\u001b[0m\u001b[1;36m20\u001b[0m\u001b[1;33m,\u001b[0m\u001b[1;36m5\u001b[0m\u001b[1;33m)\u001b[0m\u001b[1;33m)\u001b[0m\u001b[1;33m\u001b[0m\u001b[1;33m\u001b[0m\u001b[0m\n\u001b[0;32m      2\u001b[0m \u001b[1;32mfor\u001b[0m \u001b[0mname\u001b[0m\u001b[1;33m,\u001b[0m\u001b[0max\u001b[0m \u001b[1;32min\u001b[0m \u001b[0mzip\u001b[0m\u001b[1;33m(\u001b[0m\u001b[0mmetrics_names\u001b[0m\u001b[1;33m,\u001b[0m\u001b[0maxs\u001b[0m\u001b[1;33m)\u001b[0m\u001b[1;33m:\u001b[0m\u001b[1;33m\u001b[0m\u001b[1;33m\u001b[0m\u001b[0m\n\u001b[1;32m----> 3\u001b[1;33m     \u001b[0mdataframe\u001b[0m\u001b[1;33m[\u001b[0m\u001b[0mname\u001b[0m\u001b[1;33m]\u001b[0m\u001b[1;33m.\u001b[0m\u001b[0mhist\u001b[0m\u001b[1;33m(\u001b[0m\u001b[0max\u001b[0m\u001b[1;33m=\u001b[0m\u001b[0max\u001b[0m\u001b[1;33m,\u001b[0m \u001b[0mbins\u001b[0m\u001b[1;33m=\u001b[0m\u001b[1;36m10\u001b[0m\u001b[1;33m)\u001b[0m\u001b[1;33m\u001b[0m\u001b[1;33m\u001b[0m\u001b[0m\n\u001b[0m\u001b[0;32m      4\u001b[0m     \u001b[0max\u001b[0m\u001b[1;33m.\u001b[0m\u001b[0mset_title\u001b[0m\u001b[1;33m(\u001b[0m\u001b[0mname\u001b[0m\u001b[1;33m)\u001b[0m\u001b[1;33m\u001b[0m\u001b[1;33m\u001b[0m\u001b[0m\n\u001b[0;32m      5\u001b[0m \u001b[0mplt\u001b[0m\u001b[1;33m.\u001b[0m\u001b[0mshow\u001b[0m\u001b[1;33m(\u001b[0m\u001b[1;33m)\u001b[0m\u001b[1;33m\u001b[0m\u001b[1;33m\u001b[0m\u001b[0m\n",
      "\u001b[1;31mNameError\u001b[0m: name 'dataframe' is not defined"
     ]
    },
    {
     "data": {
      "image/png": "[encoded data removed]",
      "text/plain": [
       "<Figure size 1440x360 with 5 Axes>"
      ]
     },
     "metadata": {
      "needs_background": "light"
     },
     "output_type": "display_data"
    }
   ],
   "source": [
    "fig,axs = plt.subplots(1,len(metrics_names),figsize=(20,5))\n",
    "for name,ax in zip(metrics_names,axs):\n",
    "    dataframe[name].hist(ax=ax, bins=10)\n",
    "    ax.set_title(name)\n",
    "plt.show()\n",
    "    \n",
    "fig2 = plt.figure()\n",
    "corrMatrix =dataframe.corr(method= \"kendall\")\n",
    "sn.heatmap(corrMatrix, annot=True)\n",
    "plt.show()"
   ]
  },
  {
   "cell_type": "code",
   "execution_count": 15,
   "metadata": {},
   "outputs": [],
   "source": [
    "def compute_metrics(curSignal,metrics_names):\n",
    "    dataStruct = dict.fromkeys(metrics_names)\n",
    "    dataStruct[\"Loudness\"] = librosa.feature.rms(curSignal)\n",
    "    # Compute the spectral centroid. [y, sr, S, n_fft, ...]\n",
    "    dataStruct[\"Centroid\"] = librosa.feature.spectral_centroid(curSignal)\n",
    "    # Compute the spectral bandwidth. [y, sr, S, n_fft, ...]\n",
    "    dataStruct[\"Bandwidth\"] = librosa.feature.spectral_bandwidth(curSignal)\n",
    "    # Compute spectral contrast [R16] , sr, S, n_fft, ...])\t\n",
    "    # dataStruct[\"Contrast\"] = librosa.feature.spectral_contrast(curSignal)\n",
    "    # Compute the spectral flatness. [y, sr, S, n_fft, ...]\n",
    "    dataStruct[\"Flatness\"] = librosa.feature.spectral_flatness(curSignal)\n",
    "    # Compute roll-off frequency\n",
    "    dataStruct[\"Rolloff\"] = librosa.feature.spectral_rolloff(curSignal)\n",
    "    return (dataStruct)"
   ]
  },
  {
   "cell_type": "code",
   "execution_count": 8,
   "metadata": {},
   "outputs": [],
   "source": [
    "def preprocess_dataset_metrics(raw_data_dir,dataset_dir,filter,metrics_names,sr,frame_size,nb_files):\n",
    "    files= os.listdir(raw_data_dir) \n",
    "    os.makedirs(dataset_dir,exist_ok=True)\n",
    "    audio_files = []\n",
    "    for file in files:\n",
    "            if filter in file:\n",
    "                audio_files.append(os.path.join(raw_data_dir,file))\n",
    "                # break\n",
    "    \n",
    "        \n",
    "    if nb_files is not None:\n",
    "        audio_files=audio_files[:nb_files]\n",
    "    \n",
    "    \n",
    "    metrics_arr = []\n",
    "    for i,file in enumerate(tqdm(audio_files)): \n",
    "        signal,_ = librosa.load(file,sr)\n",
    "        metrics_arr.append(compute_metrics(signal,metrics_names))\n",
    "    return metrics_arr\n",
    "#     nb_samples = len(audio_files)\n",
    "#     nb_trames = int(len(librosa.load(audio_files[0],sr)[0])/frame_size)\n",
    "#     loudness_arr = np.zeros((nb_samples,nb_trames,1))\n",
    "#     pitch_arr = np.zeros((nb_samples,nb_trames,1))\n",
    "#     audio_arr = np.zeros((nb_samples,nb_trames,frame_size))\n",
    "    \n",
    "    \n",
    "#     for i,file in enumerate(tqdm(audio_files)):\n",
    "#             signal,_ = librosa.load(file,sr)\n",
    "#             pitch_arr[i] = get_pitch(signal,sr,frame_size).reshape(-1,1)\n",
    "#             loudness_arr[i] = get_loudness(signal,sr,frame_size,n_fft=1024).reshape(-1,1)\n",
    "#             audio_arr[i] = signal.reshape(-1,frame_size)\n",
    "            \n",
    "        \n",
    "        \n",
    "#     l_mean,l_std = np.mean(loudness_arr),np.std(loudness_arr)\n",
    "#     loudness_arr = (loudness_arr-l_mean)/l_std\n",
    "            \n",
    "#     save_pickle(pitch_arr,os.path.join(dataset_dir,'pitch.pkl'))\n",
    "#     save_pickle(loudness_arr,os.path.join(dataset_dir,'loudness.pkl'))\n",
    "#     save_pickle(audio_arr,os.path.join(dataset_dir,'audio.pkl'))"
   ]
  },
  {
   "cell_type": "code",
   "execution_count": 17,
   "metadata": {},
   "outputs": [],
   "source": [
    "def preprocess_dataset_metrics_2(raw_data_dir,dataset_dir,filter,metrics_names,sr,frame_size,nb_files):\n",
    "    files= os.listdir(raw_data_dir) \n",
    "    os.makedirs(dataset_dir,exist_ok=True)\n",
    "    audio_files = []\n",
    "    for file in files:\n",
    "            if filter in file:\n",
    "                audio_files.append(os.path.join(raw_data_dir,file))\n",
    "                # break\n",
    "    \n",
    "        \n",
    "    if nb_files is not None:\n",
    "        audio_files=audio_files[:nb_files]\n",
    "    \n",
    "    \n",
    "    metrics_arr = []\n",
    "    for i,file in enumerate(tqdm(audio_files)): \n",
    "        signal,_ = librosa.load(file,sr)\n",
    "        metrics_arr.append(compute_metrics2(signal,metrics_names))\n",
    "    return metrics_arr\n",
    "#     nb_samples = len(audio_files)\n",
    "#     nb_trames = int(len(librosa.load(audio_files[0],sr)[0])/frame_size)\n",
    "#     loudness_arr = np.zeros((nb_samples,nb_trames,1))\n",
    "#     pitch_arr = np.zeros((nb_samples,nb_trames,1))\n",
    "#     audio_arr = np.zeros((nb_samples,nb_trames,frame_size))\n",
    "    \n",
    "    \n",
    "#     for i,file in enumerate(tqdm(audio_files)):\n",
    "#             signal,_ = librosa.load(file,sr)\n",
    "#             pitch_arr[i] = get_pitch(signal,sr,frame_size).reshape(-1,1)\n",
    "#             loudness_arr[i] = get_loudness(signal,sr,frame_size,n_fft=1024).reshape(-1,1)\n",
    "#             audio_arr[i] = signal.reshape(-1,frame_size)\n",
    "            \n",
    "        \n",
    "        \n",
    "#     l_mean,l_std = np.mean(loudness_arr),np.std(loudness_arr)\n",
    "#     loudness_arr = (loudness_arr-l_mean)/l_std\n",
    "            \n",
    "#     save_pickle(pitch_arr,os.path.join(dataset_dir,'pitch.pkl'))\n",
    "#     save_pickle(loudness_arr,os.path.join(dataset_dir,'loudness.pkl'))\n",
    "#     save_pickle(audio_arr,os.path.join(dataset_dir,'audio.pkl'))"
   ]
  },
  {
   "cell_type": "code",
   "execution_count": 9,
   "metadata": {},
   "outputs": [],
   "source": [
    "from scipy.fft import fft, fftfreq\n",
    "\n",
    "def Attack_Release(CurSignal, fs = 44100):\n",
    "    \"Compute the time of attack and the decay time \"\n",
    "    X_pos_frontier, X_neg_frontier = se.get_frontiers(curSignal, 0)\n",
    "    X_envelope = se.get_frontiers(curSignal, 1)\n",
    "    dth = 0\n",
    "    for i, x in enumerate(CurSignal):\n",
    "        th1 = CurSignal[x+1]\n",
    "        th2 = CurSignal[x]\n",
    "        Dth = th1 - th2\n",
    "        pos = x\n",
    "        if th1<th2 :\n",
    "            break\n",
    "        elif Dth > dth : \n",
    "            dth = Dth\n",
    "            pos = x\n",
    "    Decay = (len(CurSignal[pos]) - len(CurSignal[len(CurSignal)-1])) / fs\n",
    "    return CurSignal[pos], dth, pos/fs, pos, Decay \n",
    "\n",
    "def logattacktime( pos, fs=44100):\n",
    "    LAT = np.log10(pos/fs)\n",
    "    return LAT"
   ]
  },
  {
   "cell_type": "code",
   "execution_count": 25,
   "metadata": {},
   "outputs": [],
   "source": [
    "def Spec_Est(Zxx, f, t):\n",
    "    \"Compute the fundamental frequency and the ambitus of variation for tremolo/ vibrato/ pitch quantification\"\n",
    "    \"Compute the Energy and the ambitus of variation in Energy for tremolo/ vibrato/ expressivness\"\n",
    "    amp_max = []\n",
    "    amp_argmax = []\n",
    "    for i in range(len(Zxx)):\n",
    "        for amp in Zxx[i]:\n",
    "            amp_max.append(np.max(amp)) # retrieve the amplitude's max value for each ite\n",
    "            amp_argmax.append(np.argmax(amp)) # retrieve the position in each vector\n",
    "            \n",
    "    Excited_frequencies = [f[i] for i in amp_argmax] # lists the f0 for each frame\n",
    "    f0 = np.mean(Excited_frequencies) # mean of the f0, estimates the fundamental frequency\n",
    "    df = np.max(Excited_frequencies)-np.min(Excited_frequencies) # compute the ambitus of variation in frquency \n",
    "    Em = np.sum(amp_max[:]**2) # Compute the overall energy in the signal\n",
    "    dE = np.max(amp_max)-np.min(amp_max)  # compite the ambitus of variation in Energy\n",
    "    \n",
    "    return df, dE, f0, Em\n",
    "\n",
    "\n",
    "def Emod_Vib_sus(CurSignal, ind, threshold = 0.2, fs = 44100):\n",
    "    \"Compute some parameters for pitch shift, vibrato, tremolo estimation\"\n",
    "    'ind = 0 return f0, ind = 2 return df, ind = 3 return Em, ind = 4 return dE'\n",
    "    'f0 is fundamental frequency, df is frequency variation, Em is the overall energy, dE is the Energy variation'\n",
    "    # Preprocessing\n",
    "    A, dth, ms, pos, Decay = Attack_Release(CurSignal)\n",
    "    \n",
    "        \n",
    "    # LOCALIZATION OF SUSTAINED PART\n",
    "    End_Release = 0\n",
    "    Release_dur = 0\n",
    "    for i, x in enumerate(CurSignal[pos:]):\n",
    "        if i <= i+CurSignal*threshold or i >= i-CurSignal*threshold :\n",
    "            End_Release = x\n",
    "            Release_dur = x - pos\n",
    "        else:\n",
    "            break\n",
    "    \n",
    "    # Calculation of tendency for energy enveloppe correction\n",
    "    Tendency = np.mean(CurSignal[pos: End_Release])\n",
    "    \n",
    "    # Sustained_energy_env = \n",
    "    Sustained_sig= CurSignal[pos: End_Release] - np.log10(Tendency)\n",
    "    \n",
    "    # Calculation of the envelope\n",
    "    X_pos_frontier, X_neg_frontier = se.get_frontiers(Sustained_sig, 0)\n",
    "    X_envelope = se.get_frontiers(Sustained_sig, 1)\n",
    "    \n",
    "    # Spectrum calculation\n",
    "    f, t , Zxx= ss.stft(Sustained_sig, fs, )\n",
    "    df, dE, f0, Em = Spec_Est(Zxx, f, t)\n",
    "    \n",
    "    if   ind == 0 :\n",
    "        return f0\n",
    "    elif ind == 1 : \n",
    "        return df\n",
    "    elif ind == 2 :\n",
    "        return Em\n",
    "    elif ind == 3 : \n",
    "        return df\n",
    "            "
   ]
  },
  {
   "cell_type": "code",
   "execution_count": 26,
   "metadata": {},
   "outputs": [],
   "source": [
    "def Temporal_centroid(CurSignal):\n",
    "    \"Compute the temporal centroid, it allows to distinguish more percussive sound than sustained ones\"\n",
    "    Nom = 0\n",
    "    Denom = 0\n",
    "    for i in range(len(CurSignal)):\n",
    "        Nom   += CurSignal[i] * i\n",
    "        Denom += CurSignal[i]\n",
    "        \n",
    "        Tc    = Nom/Denom\n",
    "    return Tc\n",
    "\n"
   ]
  },
  {
   "cell_type": "code",
   "execution_count": 11,
   "metadata": {},
   "outputs": [],
   "source": [
    "def compute_metrics_2(curSignal,metrics_names):\n",
    "    dataStruct = dict.fromkeys(metrics_names)\n",
    "    dataStruct[\"Log Attack Time\"] = librosa.feature.rms(curSignal)\n",
    "    # Compute the spectral centroid. [y, sr, S, n_fft, ...]\n",
    "    dataStruct[\"Release\"] = librosa.feature.spectral_centroid(curSignal)\n",
    "    # Compute the spectral bandwidth. [y, sr, S, n_fft, ...]\n",
    "    dataStruct[\"Temporal Centroid\"] = Temporal_centroid(curSignal)\n",
    "    # Compute spectral contrast [R16] , sr, S, n_fft, ...])\t\n",
    "    # dataStruct[\"Contrast\"] = librosa.feature.spectral_contrast(curSignal)\n",
    "    # Compute the spectral flatness. [y, sr, S, n_fft, ...]\n",
    "    dataStruct[\"Flatness\"] = librosa.feature.spectral_flatness(curSignal)\n",
    "    # Compute roll-off frequency\n",
    "    dataStruct[\"Rolloff\"] = librosa.feature.spectral_rolloff(curSignal)\n",
    "    return (dataStruct)"
   ]
  },
  {
   "cell_type": "code",
   "execution_count": null,
   "metadata": {},
   "outputs": [],
   "source": []
  }
 ],
 "metadata": {
  "kernelspec": {
   "display_name": "Python 3",
   "language": "python",
   "name": "python3"
  },
  "language_info": {
   "codemirror_mode": {
    "name": "ipython",
    "version": 3
   },
   "file_extension": ".py",
   "mimetype": "text/x-python",
   "name": "python",
   "nbconvert_exporter": "python",
   "pygments_lexer": "ipython3",
   "version": "3.8.5"
  }
 },
 "nbformat": 4,
 "nbformat_minor": 5
}
